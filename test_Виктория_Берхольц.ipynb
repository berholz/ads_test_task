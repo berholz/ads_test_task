{
  "nbformat": 4,
  "nbformat_minor": 0,
  "metadata": {
    "colab": {
      "name": "test Виктория Берхольц.ipynb",
      "provenance": [],
      "collapsed_sections": [],
      "authorship_tag": "ABX9TyNj3mANYXU9koBfXCL7ENgl",
      "include_colab_link": true
    },
    "kernelspec": {
      "name": "python3",
      "display_name": "Python 3"
    },
    "language_info": {
      "name": "python"
    }
  },
  "cells": [
    {
      "cell_type": "markdown",
      "metadata": {
        "id": "view-in-github",
        "colab_type": "text"
      },
      "source": [
        "<a href=\"https://colab.research.google.com/github/berholz/ads_test_task/blob/main/test_%D0%92%D0%B8%D0%BA%D1%82%D0%BE%D1%80%D0%B8%D1%8F_%D0%91%D0%B5%D1%80%D1%85%D0%BE%D0%BB%D1%8C%D1%86.ipynb\" target=\"_parent\"><img src=\"https://colab.research.google.com/assets/colab-badge.svg\" alt=\"Open In Colab\"/></a>"
      ]
    },
    {
      "cell_type": "markdown",
      "metadata": {
        "id": "h9HOhxctdSOP"
      },
      "source": [
        "Добрый день!\n",
        "Меня зовут Виктория и это мое тестовое задание\n",
        "\n",
        "Я создала 2 функции для построения витрины: одна просто суммирует нужные значения за выбранный период, вторая -делает ресемплирования и можно отслеживать данные по выбранному периоду времени-день, час, полчаса etc.\n",
        "Формат времени в датафреме UTC, поэтому мне не удалось выудить часовые пояса, к  сожалению"
      ]
    },
    {
      "cell_type": "code",
      "metadata": {
        "id": "-VINNFKuGTQT"
      },
      "source": [
        "import pandas as pd\n",
        "import matplotlib.pyplot as plt\n",
        "\n",
        "import numpy as np\n",
        "import plotly\n",
        "import plotly.graph_objs as go\n",
        "import plotly.express as px\n",
        "from plotly.subplots import make_subplots\n",
        "\n",
        "from IPython.display import display\n",
        "\n",
        "\n",
        "from datetime import datetime, timedelta, timezone\n",
        "from tzlocal import get_localzone # $ pip install tzlocal\n"
      ],
      "execution_count": 82,
      "outputs": []
    },
    {
      "cell_type": "code",
      "metadata": {
        "id": "ju_cij4KdR9y"
      },
      "source": [
        ""
      ],
      "execution_count": null,
      "outputs": []
    },
    {
      "cell_type": "markdown",
      "metadata": {
        "id": "aDZgLv8Jd3DE"
      },
      "source": [
        ""
      ]
    },
    {
      "cell_type": "markdown",
      "metadata": {
        "id": "tedbIZIyd3JW"
      },
      "source": [
        "Здесь происходит считывание данных. У меня таблицы лежали в Google disk"
      ]
    },
    {
      "cell_type": "code",
      "metadata": {
        "colab": {
          "base_uri": "https://localhost:8080/"
        },
        "id": "np3w8U1xYwEQ",
        "outputId": "d265c9be-0a6f-49f9-8b22-6e4ca35c6dcd"
      },
      "source": [
        "from google.colab import drive\n",
        "drive.mount('/content/drive/')\n",
        "path = \"drive/My Drive/ad_sys.csv\"\n",
        "ad_sys= pd.read_csv(path)\n",
        "path = \"drive/My Drive/billing_sys.csv\"\n",
        "billing_sys= pd.read_csv(path)\n",
        "path = \"drive/My Drive/internal_events.csv\"\n",
        "internal_events= pd.read_csv(path)\n",
        "path = \"drive/My Drive/uid_to_user_id.csv\"\n",
        "uid_to_user_id= pd.read_csv(path)"
      ],
      "execution_count": 83,
      "outputs": [
        {
          "output_type": "stream",
          "text": [
            "Drive already mounted at /content/drive/; to attempt to forcibly remount, call drive.mount(\"/content/drive/\", force_remount=True).\n"
          ],
          "name": "stdout"
        }
      ]
    },
    {
      "cell_type": "markdown",
      "metadata": {
        "id": "9YGO7EddMbCq"
      },
      "source": [
        "Названия колонок из ТЗ\n",
        "**file: ad_sys.csv**\n",
        "\n",
        "date- дата отчетного периода\n",
        "\n",
        "_collected_at- время и дата получения данных на сервере\n",
        "\n",
        "revenue- данные по выручке от рекламной системы\n",
        "\n",
        "spent- данные по затратам от рекламной системы\n",
        "\n",
        "affid- идентификатор источника трафика\n",
        "\n",
        "**file: billing_sys.csv**\n",
        "\n",
        "created_at- время и дата транзакции\n",
        "\n",
        "affid- идентификатор источника трафика\n",
        "\n",
        "amount- сумма транзакции\n",
        "\n",
        "uid- идентификатор пользователя в биллинг системе\n",
        "\n",
        "Внутренняя система событий по покупкам \n",
        "\n",
        "**file: internal_events.csv**\n",
        "\n",
        "created_at- время и дата события\n",
        "\n",
        "affid- дентификатор источника трафика\n",
        "\n",
        "revenue- сумма транзакции\n",
        "\n",
        "user_id- внутренний идентификатор пользователя\n",
        "\n",
        " \n",
        " \n",
        " \n",
        " \n",
        "Необходимо сделать представление / view / витрину, по которой в дальнейшем будет строится отчеты с данными следующего вида:\n",
        "\n",
        "revenue_traffic_source- выручка по данным рекламной системы\n",
        "\n",
        "date - дата\n",
        "\n",
        "revenue_pixel- выручка по данным внутренней системы событий\n",
        "\n",
        "revenue_billing_system- выручка по данным системы биллинга\n",
        "\n",
        "revenue_{traffic source id}- выручка по конкретному источнику трафика\n",
        "\n",
        "spent_traffic_source- данные по затратам на рекламу\n",
        "\n"
      ]
    },
    {
      "cell_type": "code",
      "metadata": {
        "id": "xWlUfu7VKQAX"
      },
      "source": [
        "#ad_sys.head(10)"
      ],
      "execution_count": 84,
      "outputs": []
    },
    {
      "cell_type": "code",
      "metadata": {
        "colab": {
          "base_uri": "https://localhost:8080/"
        },
        "id": "C3bKVZFkKZ9A",
        "outputId": "da4bff2d-9985-4e10-b1d4-38d129bd73cd"
      },
      "source": [
        "ad_sys.info()"
      ],
      "execution_count": 85,
      "outputs": [
        {
          "output_type": "stream",
          "text": [
            "<class 'pandas.core.frame.DataFrame'>\n",
            "RangeIndex: 775 entries, 0 to 774\n",
            "Data columns (total 5 columns):\n",
            " #   Column         Non-Null Count  Dtype  \n",
            "---  ------         --------------  -----  \n",
            " 0   date           775 non-null    object \n",
            " 1   revenue        775 non-null    float64\n",
            " 2   spent          775 non-null    float64\n",
            " 3   _collected_at  775 non-null    object \n",
            " 4   affid          775 non-null    int64  \n",
            "dtypes: float64(2), int64(1), object(2)\n",
            "memory usage: 30.4+ KB\n"
          ],
          "name": "stdout"
        }
      ]
    },
    {
      "cell_type": "code",
      "metadata": {
        "id": "9f45eXVkeLsT"
      },
      "source": [
        ""
      ],
      "execution_count": null,
      "outputs": []
    },
    {
      "cell_type": "markdown",
      "metadata": {
        "id": "xm7QPG60eNWq"
      },
      "source": [
        "Здесь я привожу столбец времени к формату datetime, чтобы выполнять фильтрацию по времени. Столбец со временим называется original time, и он становитс индексом для всего датафрема(Для всех датафреймов будет выполнена такая же операция)\n"
      ]
    },
    {
      "cell_type": "code",
      "metadata": {
        "colab": {
          "base_uri": "https://localhost:8080/"
        },
        "id": "sL0Tya-2G5Od",
        "outputId": "16b13d5c-f10d-45af-d526-65d6aab5dc10"
      },
      "source": [
        "ad_sys['original_date']=pd.to_datetime(ad_sys['_collected_at'])\n",
        "ad_sys=ad_sys.set_index('original_date')\n",
        "ad_sys=ad_sys.sort_index()\n",
        "print(ad_sys.index.is_monotonic)"
      ],
      "execution_count": 86,
      "outputs": [
        {
          "output_type": "stream",
          "text": [
            "True\n"
          ],
          "name": "stdout"
        }
      ]
    },
    {
      "cell_type": "code",
      "metadata": {
        "id": "9FLVeNxiVBE4"
      },
      "source": [
        "ad_sys['affid']=ad_sys['affid'].astype(np.float64)\n",
        "ad_sys['affid']=ad_sys['affid'].astype(object)"
      ],
      "execution_count": 87,
      "outputs": []
    },
    {
      "cell_type": "code",
      "metadata": {
        "colab": {
          "base_uri": "https://localhost:8080/",
          "height": 204
        },
        "id": "XH1WeWgnKfVu",
        "outputId": "29cbf150-133c-4187-f658-2385bf2b00bc"
      },
      "source": [
        "billing_sys.head(5)"
      ],
      "execution_count": 88,
      "outputs": [
        {
          "output_type": "execute_result",
          "data": {
            "text/html": [
              "<div>\n",
              "<style scoped>\n",
              "    .dataframe tbody tr th:only-of-type {\n",
              "        vertical-align: middle;\n",
              "    }\n",
              "\n",
              "    .dataframe tbody tr th {\n",
              "        vertical-align: top;\n",
              "    }\n",
              "\n",
              "    .dataframe thead th {\n",
              "        text-align: right;\n",
              "    }\n",
              "</style>\n",
              "<table border=\"1\" class=\"dataframe\">\n",
              "  <thead>\n",
              "    <tr style=\"text-align: right;\">\n",
              "      <th></th>\n",
              "      <th>created_at</th>\n",
              "      <th>affid</th>\n",
              "      <th>amount</th>\n",
              "      <th>uid</th>\n",
              "    </tr>\n",
              "  </thead>\n",
              "  <tbody>\n",
              "    <tr>\n",
              "      <th>0</th>\n",
              "      <td>2021-04-08 12:27:49 UTC</td>\n",
              "      <td>1008.0</td>\n",
              "      <td>99.0</td>\n",
              "      <td>bf00c161</td>\n",
              "    </tr>\n",
              "    <tr>\n",
              "      <th>1</th>\n",
              "      <td>2021-04-11 05:49:51 UTC</td>\n",
              "      <td>1210.0</td>\n",
              "      <td>39.0</td>\n",
              "      <td>c7dc59fc</td>\n",
              "    </tr>\n",
              "    <tr>\n",
              "      <th>2</th>\n",
              "      <td>2021-04-09 01:30:36 UTC</td>\n",
              "      <td>1999.0</td>\n",
              "      <td>39.0</td>\n",
              "      <td>da121a2a</td>\n",
              "    </tr>\n",
              "    <tr>\n",
              "      <th>3</th>\n",
              "      <td>2021-04-08 03:06:28 UTC</td>\n",
              "      <td>1999.0</td>\n",
              "      <td>39.0</td>\n",
              "      <td>244c8870</td>\n",
              "    </tr>\n",
              "    <tr>\n",
              "      <th>4</th>\n",
              "      <td>2021-04-10 20:55:09 UTC</td>\n",
              "      <td>NaN</td>\n",
              "      <td>39.0</td>\n",
              "      <td>f07d2882</td>\n",
              "    </tr>\n",
              "  </tbody>\n",
              "</table>\n",
              "</div>"
            ],
            "text/plain": [
              "                created_at   affid  amount       uid\n",
              "0  2021-04-08 12:27:49 UTC  1008.0    99.0  bf00c161\n",
              "1  2021-04-11 05:49:51 UTC  1210.0    39.0  c7dc59fc\n",
              "2  2021-04-09 01:30:36 UTC  1999.0    39.0  da121a2a\n",
              "3  2021-04-08 03:06:28 UTC  1999.0    39.0  244c8870\n",
              "4  2021-04-10 20:55:09 UTC     NaN    39.0  f07d2882"
            ]
          },
          "metadata": {
            "tags": []
          },
          "execution_count": 88
        }
      ]
    },
    {
      "cell_type": "code",
      "metadata": {
        "colab": {
          "base_uri": "https://localhost:8080/"
        },
        "id": "_VTbQEd1Kkzj",
        "outputId": "7bbf7484-0a09-41b9-f0fd-af3a5ac00a82"
      },
      "source": [
        "billing_sys.info()"
      ],
      "execution_count": 89,
      "outputs": [
        {
          "output_type": "stream",
          "text": [
            "<class 'pandas.core.frame.DataFrame'>\n",
            "RangeIndex: 1125 entries, 0 to 1124\n",
            "Data columns (total 4 columns):\n",
            " #   Column      Non-Null Count  Dtype  \n",
            "---  ------      --------------  -----  \n",
            " 0   created_at  1125 non-null   object \n",
            " 1   affid       973 non-null    float64\n",
            " 2   amount      1125 non-null   float64\n",
            " 3   uid         1125 non-null   object \n",
            "dtypes: float64(2), object(2)\n",
            "memory usage: 35.3+ KB\n"
          ],
          "name": "stdout"
        }
      ]
    },
    {
      "cell_type": "code",
      "metadata": {
        "colab": {
          "base_uri": "https://localhost:8080/"
        },
        "id": "5YNI8gufXkwr",
        "outputId": "47a9c8a7-b309-40fb-ad68-14fbbae86fd6"
      },
      "source": [
        "billing_sys['original_date']=pd.to_datetime(billing_sys['created_at'])\n",
        "billing_sys=billing_sys.set_index('original_date')\n",
        "billing_sys=billing_sys.sort_index()\n",
        "print(billing_sys.index.is_monotonic)"
      ],
      "execution_count": 90,
      "outputs": [
        {
          "output_type": "stream",
          "text": [
            "True\n"
          ],
          "name": "stdout"
        }
      ]
    },
    {
      "cell_type": "code",
      "metadata": {
        "colab": {
          "base_uri": "https://localhost:8080/",
          "height": 204
        },
        "id": "Qu9bGJCSLejB",
        "outputId": "a80ad9f8-dd06-4ce7-8c0c-90bcaeeebccf"
      },
      "source": [
        "internal_events.head(5)"
      ],
      "execution_count": 91,
      "outputs": [
        {
          "output_type": "execute_result",
          "data": {
            "text/html": [
              "<div>\n",
              "<style scoped>\n",
              "    .dataframe tbody tr th:only-of-type {\n",
              "        vertical-align: middle;\n",
              "    }\n",
              "\n",
              "    .dataframe tbody tr th {\n",
              "        vertical-align: top;\n",
              "    }\n",
              "\n",
              "    .dataframe thead th {\n",
              "        text-align: right;\n",
              "    }\n",
              "</style>\n",
              "<table border=\"1\" class=\"dataframe\">\n",
              "  <thead>\n",
              "    <tr style=\"text-align: right;\">\n",
              "      <th></th>\n",
              "      <th>created_at</th>\n",
              "      <th>affid</th>\n",
              "      <th>revenue</th>\n",
              "      <th>user_id</th>\n",
              "    </tr>\n",
              "  </thead>\n",
              "  <tbody>\n",
              "    <tr>\n",
              "      <th>0</th>\n",
              "      <td>2021-04-08 02:46:32.319760 UTC</td>\n",
              "      <td>NaN</td>\n",
              "      <td>39.0</td>\n",
              "      <td>15232625</td>\n",
              "    </tr>\n",
              "    <tr>\n",
              "      <th>1</th>\n",
              "      <td>2021-04-08 14:45:35.272310 UTC</td>\n",
              "      <td>1210.0</td>\n",
              "      <td>39.0</td>\n",
              "      <td>15235225</td>\n",
              "    </tr>\n",
              "    <tr>\n",
              "      <th>2</th>\n",
              "      <td>2021-04-08 14:59:56.842434 UTC</td>\n",
              "      <td>1009.0</td>\n",
              "      <td>39.0</td>\n",
              "      <td>15235207</td>\n",
              "    </tr>\n",
              "    <tr>\n",
              "      <th>3</th>\n",
              "      <td>2021-04-08 16:05:28.244022 UTC</td>\n",
              "      <td>1210.0</td>\n",
              "      <td>39.0</td>\n",
              "      <td>3719420</td>\n",
              "    </tr>\n",
              "    <tr>\n",
              "      <th>4</th>\n",
              "      <td>2021-04-08 19:25:10.870616 UTC</td>\n",
              "      <td>1008.0</td>\n",
              "      <td>39.0</td>\n",
              "      <td>15236390</td>\n",
              "    </tr>\n",
              "  </tbody>\n",
              "</table>\n",
              "</div>"
            ],
            "text/plain": [
              "                       created_at   affid  revenue   user_id\n",
              "0  2021-04-08 02:46:32.319760 UTC     NaN     39.0  15232625\n",
              "1  2021-04-08 14:45:35.272310 UTC  1210.0     39.0  15235225\n",
              "2  2021-04-08 14:59:56.842434 UTC  1009.0     39.0  15235207\n",
              "3  2021-04-08 16:05:28.244022 UTC  1210.0     39.0   3719420\n",
              "4  2021-04-08 19:25:10.870616 UTC  1008.0     39.0  15236390"
            ]
          },
          "metadata": {
            "tags": []
          },
          "execution_count": 91
        }
      ]
    },
    {
      "cell_type": "code",
      "metadata": {
        "colab": {
          "base_uri": "https://localhost:8080/"
        },
        "id": "E8avxJ_LLo54",
        "outputId": "c722e728-3914-4f32-932f-5712056a2f15"
      },
      "source": [
        "internal_events.info()"
      ],
      "execution_count": 92,
      "outputs": [
        {
          "output_type": "stream",
          "text": [
            "<class 'pandas.core.frame.DataFrame'>\n",
            "RangeIndex: 1459 entries, 0 to 1458\n",
            "Data columns (total 4 columns):\n",
            " #   Column      Non-Null Count  Dtype  \n",
            "---  ------      --------------  -----  \n",
            " 0   created_at  1459 non-null   object \n",
            " 1   affid       1343 non-null   float64\n",
            " 2   revenue     1459 non-null   float64\n",
            " 3   user_id     1459 non-null   object \n",
            "dtypes: float64(2), object(2)\n",
            "memory usage: 45.7+ KB\n"
          ],
          "name": "stdout"
        }
      ]
    },
    {
      "cell_type": "code",
      "metadata": {
        "id": "XanJvUXQbE0R"
      },
      "source": [
        "internal_events['affid']=internal_events['affid'].fillna('unknown')\n",
        "billing_sys['affid']=billing_sys['affid'].fillna('unknown')\n",
        "ad_sys['affid']=ad_sys['affid'].fillna('unknown')"
      ],
      "execution_count": 93,
      "outputs": []
    },
    {
      "cell_type": "code",
      "metadata": {
        "colab": {
          "base_uri": "https://localhost:8080/"
        },
        "id": "rzHfGoZTYAmy",
        "outputId": "489e2e03-55fe-4591-f08e-da095733cf27"
      },
      "source": [
        "internal_events['original_date']=pd.to_datetime(internal_events['created_at'])\n",
        "internal_events=internal_events.set_index('original_date')\n",
        "internal_events=internal_events.sort_index()\n",
        "print(internal_events.index.is_monotonic)"
      ],
      "execution_count": 94,
      "outputs": [
        {
          "output_type": "stream",
          "text": [
            "True\n"
          ],
          "name": "stdout"
        }
      ]
    },
    {
      "cell_type": "code",
      "metadata": {
        "colab": {
          "base_uri": "https://localhost:8080/",
          "height": 204
        },
        "id": "vBPYJdXZLv33",
        "outputId": "0ab0a8fa-f21f-4159-8f58-958209c480ee"
      },
      "source": [
        "uid_to_user_id.head()"
      ],
      "execution_count": 95,
      "outputs": [
        {
          "output_type": "execute_result",
          "data": {
            "text/html": [
              "<div>\n",
              "<style scoped>\n",
              "    .dataframe tbody tr th:only-of-type {\n",
              "        vertical-align: middle;\n",
              "    }\n",
              "\n",
              "    .dataframe tbody tr th {\n",
              "        vertical-align: top;\n",
              "    }\n",
              "\n",
              "    .dataframe thead th {\n",
              "        text-align: right;\n",
              "    }\n",
              "</style>\n",
              "<table border=\"1\" class=\"dataframe\">\n",
              "  <thead>\n",
              "    <tr style=\"text-align: right;\">\n",
              "      <th></th>\n",
              "      <th>uid</th>\n",
              "      <th>user_id</th>\n",
              "    </tr>\n",
              "  </thead>\n",
              "  <tbody>\n",
              "    <tr>\n",
              "      <th>0</th>\n",
              "      <td>ab99a80e</td>\n",
              "      <td>15240245</td>\n",
              "    </tr>\n",
              "    <tr>\n",
              "      <th>1</th>\n",
              "      <td>f7c8256c</td>\n",
              "      <td>15235689</td>\n",
              "    </tr>\n",
              "    <tr>\n",
              "      <th>2</th>\n",
              "      <td>6b7dd846</td>\n",
              "      <td>15233251</td>\n",
              "    </tr>\n",
              "    <tr>\n",
              "      <th>3</th>\n",
              "      <td>685c6868</td>\n",
              "      <td>15240351</td>\n",
              "    </tr>\n",
              "    <tr>\n",
              "      <th>4</th>\n",
              "      <td>54314e60</td>\n",
              "      <td>15243647</td>\n",
              "    </tr>\n",
              "  </tbody>\n",
              "</table>\n",
              "</div>"
            ],
            "text/plain": [
              "        uid   user_id\n",
              "0  ab99a80e  15240245\n",
              "1  f7c8256c  15235689\n",
              "2  6b7dd846  15233251\n",
              "3  685c6868  15240351\n",
              "4  54314e60  15243647"
            ]
          },
          "metadata": {
            "tags": []
          },
          "execution_count": 95
        }
      ]
    },
    {
      "cell_type": "code",
      "metadata": {
        "colab": {
          "base_uri": "https://localhost:8080/"
        },
        "id": "xcyOHU0XL4C0",
        "outputId": "747a5116-d38a-4aad-bd36-b70067abaf53"
      },
      "source": [
        "uid_to_user_id.info()"
      ],
      "execution_count": 96,
      "outputs": [
        {
          "output_type": "stream",
          "text": [
            "<class 'pandas.core.frame.DataFrame'>\n",
            "RangeIndex: 643 entries, 0 to 642\n",
            "Data columns (total 2 columns):\n",
            " #   Column   Non-Null Count  Dtype \n",
            "---  ------   --------------  ----- \n",
            " 0   uid      643 non-null    object\n",
            " 1   user_id  643 non-null    int64 \n",
            "dtypes: int64(1), object(1)\n",
            "memory usage: 10.2+ KB\n"
          ],
          "name": "stdout"
        }
      ]
    },
    {
      "cell_type": "markdown",
      "metadata": {
        "id": "Dp-u5KfKZiV8"
      },
      "source": [
        "**Задание из ТЗ такое:**\n",
        "\n",
        "Необходимо сделать представление / view / витрину, по которой в дальнейшем будет строится отчеты с данными следующего вида:\n",
        "\n",
        "revenue_traffic_source- выручка по данным рекламной системы\n",
        "\n",
        "date - дата\n",
        "\n",
        "revenue_pixel- выручка по данным внутренней системы событий\n",
        "\n",
        "revenue_billing_system- выручка по данным системы биллинга\n",
        "\n",
        "revenue_{traffic source id}- выручка по конкретному источнику трафика\n",
        "\n",
        "spent_traffic_source- данные по затратам на рекламу\n",
        "\n",
        "При этом должна сохраниться возможность фильтрации по временной зоне (timezone).\n"
      ]
    },
    {
      "cell_type": "code",
      "metadata": {
        "id": "GgReqXG7Gy6m"
      },
      "source": [
        ""
      ],
      "execution_count": null,
      "outputs": []
    },
    {
      "cell_type": "markdown",
      "metadata": {
        "id": "s1ypOxgjGzuW"
      },
      "source": [
        "Первая функция **Функция revenue_summ** создает витрину и возвращет ее в качестве dataframe со следующими аргументами:\n",
        "\n",
        "date1- начало отчетного периода\n",
        "\n",
        "date2-конец отчетного периода\n",
        "\n",
        "affid- id источника трафика\n",
        "\n",
        "info(True/False)-true: печатает дополнительную информацию: 1. revenue для конретного affid по разным источникам\n",
        "2. revenue по всем affid для сравнения"
      ]
    },
    {
      "cell_type": "code",
      "metadata": {
        "id": "MDOaa972bX2K"
      },
      "source": [
        "def revenue_summ(date1,date2,affid, info):\n",
        "  print('Summ of revenue from ad, billing and internal sources',date1,'-',date2)\n",
        "  result_df=pd.DataFrame(columns=['date', 'revenue_traffic_source','revenue_pixel','revenue_billing_system', 'revenue_{}'.format(affid),'spent_traffic_source'])\n",
        "  pivot=ad_sys[date1:date2]\n",
        "  #print(pivot.head(5))\n",
        "  pivot_ad=pivot.pivot_table(index='affid',values=['revenue'], aggfunc='sum')\n",
        "  print()\n",
        "  #display(pivot_ad)\n",
        "  #print(pivot['revenue'].sum())\n",
        "  result_df.loc[0,'date']=(date1,date2)\n",
        "  result_df.loc[0,'revenue_traffic_source']=pivot['revenue'].sum()\n",
        "  \n",
        "  money_spent=pivot['spent'].sum()\n",
        "  pivot=billing_sys[date1:date2]\n",
        "  result_df.loc[0,'revenue_billing_system']=pivot['amount'].sum()\n",
        "  pivot_bill=pivot.pivot_table(index='affid',values='amount', aggfunc='sum')\n",
        "  #display(pivot_bill)\n",
        "  pivot=internal_events[date1:date2]\n",
        "  result_df.loc[0,'revenue_pixel']=pivot['revenue'].sum()\n",
        "  result_df.loc[0,'spent_traffic_source']=money_spent\n",
        "  pivot_internal=pivot.pivot_table(index='affid',values='revenue', aggfunc='sum')\n",
        "  #display(pivot_internal)\n",
        "  \n",
        "  data_merge = pivot_bill.merge(pivot_internal, on='affid', how='left')\n",
        "  data_merge.reset_index(inplace=True)\n",
        "  pivot_ad.reset_index(inplace=True)\n",
        "  pivot_ad['affid']=pivot_ad['affid'].astype(object)\n",
        "  data_merge1 = data_merge.merge(pivot_ad, on='affid', how='left')\n",
        "  data_merge1.columns=['affid','billing_system', 'pixel','traffic_source']\n",
        "  try:\n",
        "    k=int(data_merge1.loc[data_merge1['affid']==affid,'traffic_source'])\n",
        "  except:\n",
        "    k=None\n",
        "  result_df.loc[0,'revenue_{}'.format(affid)]=k\n",
        "  #display(result_df)\n",
        "  if info== True:\n",
        "      print('revenue by affid=',affid)\n",
        "      print()\n",
        "      display(data_merge1.loc[data_merge1['affid']==affid])\n",
        "      print()\n",
        "      print('Money spent on ad=', money_spent)\n",
        "      print()\n",
        "      print('revenue from all affids')\n",
        "      print()\n",
        "      display(data_merge1)\n",
        "  return(result_df)\n",
        "  "
      ],
      "execution_count": 102,
      "outputs": []
    },
    {
      "cell_type": "code",
      "metadata": {
        "id": "6Fkatb3YVy0z"
      },
      "source": [
        ""
      ],
      "execution_count": null,
      "outputs": []
    },
    {
      "cell_type": "markdown",
      "metadata": {
        "id": "8JaLV7Fve8-H"
      },
      "source": [
        "Примеры работы функции **revenue_summ**"
      ]
    },
    {
      "cell_type": "code",
      "metadata": {
        "colab": {
          "base_uri": "https://localhost:8080/",
          "height": 855
        },
        "id": "6MhNUk6AUuHX",
        "outputId": "9e933b0c-b736-48c9-bc9c-bc26b7496a7a"
      },
      "source": [
        "revenue_summ('2021-04-08','2021-04-21',1008, info=True)"
      ],
      "execution_count": 98,
      "outputs": [
        {
          "output_type": "stream",
          "text": [
            "Summ of revenue from ad, billing and internal sources 2021-04-08 - 2021-04-21\n",
            "\n",
            "revenue by affid= 1008\n",
            "\n"
          ],
          "name": "stdout"
        },
        {
          "output_type": "display_data",
          "data": {
            "text/html": [
              "<div>\n",
              "<style scoped>\n",
              "    .dataframe tbody tr th:only-of-type {\n",
              "        vertical-align: middle;\n",
              "    }\n",
              "\n",
              "    .dataframe tbody tr th {\n",
              "        vertical-align: top;\n",
              "    }\n",
              "\n",
              "    .dataframe thead th {\n",
              "        text-align: right;\n",
              "    }\n",
              "</style>\n",
              "<table border=\"1\" class=\"dataframe\">\n",
              "  <thead>\n",
              "    <tr style=\"text-align: right;\">\n",
              "      <th></th>\n",
              "      <th>affid</th>\n",
              "      <th>billing_system</th>\n",
              "      <th>pixel</th>\n",
              "      <th>traffic_source</th>\n",
              "    </tr>\n",
              "  </thead>\n",
              "  <tbody>\n",
              "    <tr>\n",
              "      <th>1</th>\n",
              "      <td>1008</td>\n",
              "      <td>16598.91</td>\n",
              "      <td>17159.87</td>\n",
              "      <td>2490968.35</td>\n",
              "    </tr>\n",
              "  </tbody>\n",
              "</table>\n",
              "</div>"
            ],
            "text/plain": [
              "  affid  billing_system     pixel  traffic_source\n",
              "1  1008        16598.91  17159.87      2490968.35"
            ]
          },
          "metadata": {
            "tags": []
          }
        },
        {
          "output_type": "stream",
          "text": [
            "\n",
            "Money spent on ad= 3786685.63\n",
            "\n",
            "revenue from all affids\n",
            "\n"
          ],
          "name": "stdout"
        },
        {
          "output_type": "display_data",
          "data": {
            "text/html": [
              "<div>\n",
              "<style scoped>\n",
              "    .dataframe tbody tr th:only-of-type {\n",
              "        vertical-align: middle;\n",
              "    }\n",
              "\n",
              "    .dataframe tbody tr th {\n",
              "        vertical-align: top;\n",
              "    }\n",
              "\n",
              "    .dataframe thead th {\n",
              "        text-align: right;\n",
              "    }\n",
              "</style>\n",
              "<table border=\"1\" class=\"dataframe\">\n",
              "  <thead>\n",
              "    <tr style=\"text-align: right;\">\n",
              "      <th></th>\n",
              "      <th>affid</th>\n",
              "      <th>billing_system</th>\n",
              "      <th>pixel</th>\n",
              "      <th>traffic_source</th>\n",
              "    </tr>\n",
              "  </thead>\n",
              "  <tbody>\n",
              "    <tr>\n",
              "      <th>0</th>\n",
              "      <td>1000</td>\n",
              "      <td>259.00</td>\n",
              "      <td>298.00</td>\n",
              "      <td>NaN</td>\n",
              "    </tr>\n",
              "    <tr>\n",
              "      <th>1</th>\n",
              "      <td>1008</td>\n",
              "      <td>16598.91</td>\n",
              "      <td>17159.87</td>\n",
              "      <td>2490968.35</td>\n",
              "    </tr>\n",
              "    <tr>\n",
              "      <th>2</th>\n",
              "      <td>1009</td>\n",
              "      <td>1789.01</td>\n",
              "      <td>1788.99</td>\n",
              "      <td>NaN</td>\n",
              "    </tr>\n",
              "    <tr>\n",
              "      <th>3</th>\n",
              "      <td>1012</td>\n",
              "      <td>39.00</td>\n",
              "      <td>39.00</td>\n",
              "      <td>NaN</td>\n",
              "    </tr>\n",
              "    <tr>\n",
              "      <th>4</th>\n",
              "      <td>1026</td>\n",
              "      <td>39.00</td>\n",
              "      <td>39.00</td>\n",
              "      <td>NaN</td>\n",
              "    </tr>\n",
              "    <tr>\n",
              "      <th>5</th>\n",
              "      <td>1042</td>\n",
              "      <td>177.00</td>\n",
              "      <td>177.00</td>\n",
              "      <td>NaN</td>\n",
              "    </tr>\n",
              "    <tr>\n",
              "      <th>6</th>\n",
              "      <td>1209</td>\n",
              "      <td>1971.38</td>\n",
              "      <td>1971.38</td>\n",
              "      <td>NaN</td>\n",
              "    </tr>\n",
              "    <tr>\n",
              "      <th>7</th>\n",
              "      <td>1210</td>\n",
              "      <td>9192.47</td>\n",
              "      <td>9192.38</td>\n",
              "      <td>NaN</td>\n",
              "    </tr>\n",
              "    <tr>\n",
              "      <th>8</th>\n",
              "      <td>1211</td>\n",
              "      <td>1979.00</td>\n",
              "      <td>2116.33</td>\n",
              "      <td>NaN</td>\n",
              "    </tr>\n",
              "    <tr>\n",
              "      <th>9</th>\n",
              "      <td>1238</td>\n",
              "      <td>95.00</td>\n",
              "      <td>95.00</td>\n",
              "      <td>NaN</td>\n",
              "    </tr>\n",
              "    <tr>\n",
              "      <th>10</th>\n",
              "      <td>1401</td>\n",
              "      <td>970.99</td>\n",
              "      <td>1105.02</td>\n",
              "      <td>NaN</td>\n",
              "    </tr>\n",
              "    <tr>\n",
              "      <th>11</th>\n",
              "      <td>1402</td>\n",
              "      <td>5874.00</td>\n",
              "      <td>5873.96</td>\n",
              "      <td>NaN</td>\n",
              "    </tr>\n",
              "    <tr>\n",
              "      <th>12</th>\n",
              "      <td>1510</td>\n",
              "      <td>39.00</td>\n",
              "      <td>39.00</td>\n",
              "      <td>NaN</td>\n",
              "    </tr>\n",
              "    <tr>\n",
              "      <th>13</th>\n",
              "      <td>1997</td>\n",
              "      <td>216.96</td>\n",
              "      <td>226.93</td>\n",
              "      <td>NaN</td>\n",
              "    </tr>\n",
              "    <tr>\n",
              "      <th>14</th>\n",
              "      <td>1998</td>\n",
              "      <td>222.99</td>\n",
              "      <td>222.99</td>\n",
              "      <td>NaN</td>\n",
              "    </tr>\n",
              "    <tr>\n",
              "      <th>15</th>\n",
              "      <td>1999</td>\n",
              "      <td>5806.64</td>\n",
              "      <td>6175.51</td>\n",
              "      <td>NaN</td>\n",
              "    </tr>\n",
              "    <tr>\n",
              "      <th>16</th>\n",
              "      <td>unknown</td>\n",
              "      <td>7329.78</td>\n",
              "      <td>6503.94</td>\n",
              "      <td>NaN</td>\n",
              "    </tr>\n",
              "  </tbody>\n",
              "</table>\n",
              "</div>"
            ],
            "text/plain": [
              "      affid  billing_system     pixel  traffic_source\n",
              "0      1000          259.00    298.00             NaN\n",
              "1      1008        16598.91  17159.87      2490968.35\n",
              "2      1009         1789.01   1788.99             NaN\n",
              "3      1012           39.00     39.00             NaN\n",
              "4      1026           39.00     39.00             NaN\n",
              "5      1042          177.00    177.00             NaN\n",
              "6      1209         1971.38   1971.38             NaN\n",
              "7      1210         9192.47   9192.38             NaN\n",
              "8      1211         1979.00   2116.33             NaN\n",
              "9      1238           95.00     95.00             NaN\n",
              "10     1401          970.99   1105.02             NaN\n",
              "11     1402         5874.00   5873.96             NaN\n",
              "12     1510           39.00     39.00             NaN\n",
              "13     1997          216.96    226.93             NaN\n",
              "14     1998          222.99    222.99             NaN\n",
              "15     1999         5806.64   6175.51             NaN\n",
              "16  unknown         7329.78   6503.94             NaN"
            ]
          },
          "metadata": {
            "tags": []
          }
        },
        {
          "output_type": "execute_result",
          "data": {
            "text/html": [
              "<div>\n",
              "<style scoped>\n",
              "    .dataframe tbody tr th:only-of-type {\n",
              "        vertical-align: middle;\n",
              "    }\n",
              "\n",
              "    .dataframe tbody tr th {\n",
              "        vertical-align: top;\n",
              "    }\n",
              "\n",
              "    .dataframe thead th {\n",
              "        text-align: right;\n",
              "    }\n",
              "</style>\n",
              "<table border=\"1\" class=\"dataframe\">\n",
              "  <thead>\n",
              "    <tr style=\"text-align: right;\">\n",
              "      <th></th>\n",
              "      <th>date</th>\n",
              "      <th>revenue_traffic_source</th>\n",
              "      <th>revenue_pixel</th>\n",
              "      <th>revenue_billing_system</th>\n",
              "      <th>revenue_1008</th>\n",
              "      <th>spent_traffic_source</th>\n",
              "    </tr>\n",
              "  </thead>\n",
              "  <tbody>\n",
              "    <tr>\n",
              "      <th>0</th>\n",
              "      <td>(2021-04-08, 2021-04-21)</td>\n",
              "      <td>2.49097e+06</td>\n",
              "      <td>103500</td>\n",
              "      <td>52600.1</td>\n",
              "      <td>2490968</td>\n",
              "      <td>3.78669e+06</td>\n",
              "    </tr>\n",
              "  </tbody>\n",
              "</table>\n",
              "</div>"
            ],
            "text/plain": [
              "                       date  ... spent_traffic_source\n",
              "0  (2021-04-08, 2021-04-21)  ...          3.78669e+06\n",
              "\n",
              "[1 rows x 6 columns]"
            ]
          },
          "metadata": {
            "tags": []
          },
          "execution_count": 98
        }
      ]
    },
    {
      "cell_type": "code",
      "metadata": {
        "colab": {
          "base_uri": "https://localhost:8080/",
          "height": 114
        },
        "id": "5upkh69CITvV",
        "outputId": "4541a953-aa97-491c-9a29-3bdc761b8c21"
      },
      "source": [
        "revenue_summ('2021-04-08','2021-04-21',1008, info=False)"
      ],
      "execution_count": 99,
      "outputs": [
        {
          "output_type": "stream",
          "text": [
            "Summ of revenue from ad, billing and internal sources 2021-04-08 - 2021-04-21\n",
            "\n"
          ],
          "name": "stdout"
        },
        {
          "output_type": "execute_result",
          "data": {
            "text/html": [
              "<div>\n",
              "<style scoped>\n",
              "    .dataframe tbody tr th:only-of-type {\n",
              "        vertical-align: middle;\n",
              "    }\n",
              "\n",
              "    .dataframe tbody tr th {\n",
              "        vertical-align: top;\n",
              "    }\n",
              "\n",
              "    .dataframe thead th {\n",
              "        text-align: right;\n",
              "    }\n",
              "</style>\n",
              "<table border=\"1\" class=\"dataframe\">\n",
              "  <thead>\n",
              "    <tr style=\"text-align: right;\">\n",
              "      <th></th>\n",
              "      <th>date</th>\n",
              "      <th>revenue_traffic_source</th>\n",
              "      <th>revenue_pixel</th>\n",
              "      <th>revenue_billing_system</th>\n",
              "      <th>revenue_1008</th>\n",
              "      <th>spent_traffic_source</th>\n",
              "    </tr>\n",
              "  </thead>\n",
              "  <tbody>\n",
              "    <tr>\n",
              "      <th>0</th>\n",
              "      <td>(2021-04-08, 2021-04-21)</td>\n",
              "      <td>2.49097e+06</td>\n",
              "      <td>103500</td>\n",
              "      <td>52600.1</td>\n",
              "      <td>2490968</td>\n",
              "      <td>3.78669e+06</td>\n",
              "    </tr>\n",
              "  </tbody>\n",
              "</table>\n",
              "</div>"
            ],
            "text/plain": [
              "                       date  ... spent_traffic_source\n",
              "0  (2021-04-08, 2021-04-21)  ...          3.78669e+06\n",
              "\n",
              "[1 rows x 6 columns]"
            ]
          },
          "metadata": {
            "tags": []
          },
          "execution_count": 99
        }
      ]
    },
    {
      "cell_type": "code",
      "metadata": {
        "colab": {
          "base_uri": "https://localhost:8080/",
          "height": 114
        },
        "id": "QD5VIFH1fYLa",
        "outputId": "f89a1654-87d9-4606-98b8-4dcfc60cf2f3"
      },
      "source": [
        "revenue_summ('2021-04-10','2021-04-20',1009, info=False)"
      ],
      "execution_count": 103,
      "outputs": [
        {
          "output_type": "stream",
          "text": [
            "Summ of revenue from ad, billing and internal sources 2021-04-10 - 2021-04-20\n",
            "\n"
          ],
          "name": "stdout"
        },
        {
          "output_type": "execute_result",
          "data": {
            "text/html": [
              "<div>\n",
              "<style scoped>\n",
              "    .dataframe tbody tr th:only-of-type {\n",
              "        vertical-align: middle;\n",
              "    }\n",
              "\n",
              "    .dataframe tbody tr th {\n",
              "        vertical-align: top;\n",
              "    }\n",
              "\n",
              "    .dataframe thead th {\n",
              "        text-align: right;\n",
              "    }\n",
              "</style>\n",
              "<table border=\"1\" class=\"dataframe\">\n",
              "  <thead>\n",
              "    <tr style=\"text-align: right;\">\n",
              "      <th></th>\n",
              "      <th>date</th>\n",
              "      <th>revenue_traffic_source</th>\n",
              "      <th>revenue_pixel</th>\n",
              "      <th>revenue_billing_system</th>\n",
              "      <th>revenue_1009</th>\n",
              "      <th>spent_traffic_source</th>\n",
              "    </tr>\n",
              "  </thead>\n",
              "  <tbody>\n",
              "    <tr>\n",
              "      <th>0</th>\n",
              "      <td>(2021-04-10, 2021-04-20)</td>\n",
              "      <td>2.12972e+06</td>\n",
              "      <td>63513.4</td>\n",
              "      <td>28453</td>\n",
              "      <td>None</td>\n",
              "      <td>3.21026e+06</td>\n",
              "    </tr>\n",
              "  </tbody>\n",
              "</table>\n",
              "</div>"
            ],
            "text/plain": [
              "                       date  ... spent_traffic_source\n",
              "0  (2021-04-10, 2021-04-20)  ...          3.21026e+06\n",
              "\n",
              "[1 rows x 6 columns]"
            ]
          },
          "metadata": {
            "tags": []
          },
          "execution_count": 103
        }
      ]
    },
    {
      "cell_type": "code",
      "metadata": {
        "colab": {
          "base_uri": "https://localhost:8080/",
          "height": 114
        },
        "id": "RxEm1wFMf8xq",
        "outputId": "cbb40088-12df-47c9-b1bc-ac5667bba601"
      },
      "source": [
        "revenue_summ('2021-04-10 00:00:00','2021-04-20 15:00:00',1009, info=False)"
      ],
      "execution_count": 104,
      "outputs": [
        {
          "output_type": "stream",
          "text": [
            "Summ of revenue from ad, billing and internal sources 2021-04-10 00:00:00 - 2021-04-20 15:00:00\n",
            "\n"
          ],
          "name": "stdout"
        },
        {
          "output_type": "execute_result",
          "data": {
            "text/html": [
              "<div>\n",
              "<style scoped>\n",
              "    .dataframe tbody tr th:only-of-type {\n",
              "        vertical-align: middle;\n",
              "    }\n",
              "\n",
              "    .dataframe tbody tr th {\n",
              "        vertical-align: top;\n",
              "    }\n",
              "\n",
              "    .dataframe thead th {\n",
              "        text-align: right;\n",
              "    }\n",
              "</style>\n",
              "<table border=\"1\" class=\"dataframe\">\n",
              "  <thead>\n",
              "    <tr style=\"text-align: right;\">\n",
              "      <th></th>\n",
              "      <th>date</th>\n",
              "      <th>revenue_traffic_source</th>\n",
              "      <th>revenue_pixel</th>\n",
              "      <th>revenue_billing_system</th>\n",
              "      <th>revenue_1009</th>\n",
              "      <th>spent_traffic_source</th>\n",
              "    </tr>\n",
              "  </thead>\n",
              "  <tbody>\n",
              "    <tr>\n",
              "      <th>0</th>\n",
              "      <td>(2021-04-10 00:00:00, 2021-04-20 15:00:00)</td>\n",
              "      <td>2.12972e+06</td>\n",
              "      <td>63513.4</td>\n",
              "      <td>28453</td>\n",
              "      <td>None</td>\n",
              "      <td>3.21026e+06</td>\n",
              "    </tr>\n",
              "  </tbody>\n",
              "</table>\n",
              "</div>"
            ],
            "text/plain": [
              "                                         date  ... spent_traffic_source\n",
              "0  (2021-04-10 00:00:00, 2021-04-20 15:00:00)  ...          3.21026e+06\n",
              "\n",
              "[1 rows x 6 columns]"
            ]
          },
          "metadata": {
            "tags": []
          },
          "execution_count": 104
        }
      ]
    },
    {
      "cell_type": "code",
      "metadata": {
        "id": "ZzCF7y0WIkWj"
      },
      "source": [
        ""
      ],
      "execution_count": null,
      "outputs": []
    },
    {
      "cell_type": "markdown",
      "metadata": {
        "id": "Btwpima7IlGb"
      },
      "source": [
        "Вторая функция:\n",
        "Если необходимо сделать витрину и ресемплирование в отчетном периоде по часу,дню или неделе, то создадим другую функцию **revenue_resample**. Функция возвращает dataframe Аргументы следующие:\n",
        "\n",
        "date1-начало отсчетного периода\n",
        "\n",
        "date2-конец отсчетного периода\n",
        "\n",
        "period- период ресемплирования, например 1H- 1 час, '30min'-30 минут\n",
        "\n",
        "affid-id источника трафика"
      ]
    },
    {
      "cell_type": "code",
      "metadata": {
        "id": "vB3FS1DYJkh4"
      },
      "source": [
        "def revenue_resample(date1,date2, period, affid):\n",
        "  ad_series=ad_sys.loc[date1:date2,'revenue'].resample(period).sum()\n",
        "  ad_spent=ad_sys.loc[date1:date2,'spent'].resample(period).sum()\n",
        "  ad_affid=ad_sys[ad_sys['affid']==affid]\n",
        "  ad_affid_series=ad_affid.loc[date1:date2,'revenue'].resample(period).sum()\n",
        "  bill_series=billing_sys.loc[date1:date2,'amount'].resample(period).sum()\n",
        "  internal_series=internal_events.loc[date1:date2,'revenue'].resample(period).sum()\n",
        "  merged=pd.merge_asof(bill_series,ad_series, on='original_date')\n",
        "  merged1=pd.merge_asof(merged, internal_series, on='original_date')\n",
        "  merged2=pd.merge_asof(merged1, ad_spent, on='original_date')\n",
        "  merged3=pd.merge_asof(merged2, ad_affid_series, on='original_date')\n",
        "  #merged3.reset_index(inplace=True)\n",
        "  merged3.columns=['date', 'revenue_billing_system','revenue_traffic_source','revenue_pixel','spent_traffic_source', 'revenue_{}'.format(affid)]\n",
        "  #print(merged3)\n",
        "  return(merged3)"
      ],
      "execution_count": null,
      "outputs": []
    },
    {
      "cell_type": "markdown",
      "metadata": {
        "id": "8aJC1FwWgOAR"
      },
      "source": [
        "Примеры работы функции** revenue_resample**"
      ]
    },
    {
      "cell_type": "code",
      "metadata": {
        "colab": {
          "base_uri": "https://localhost:8080/",
          "height": 419
        },
        "id": "NfmykzeON20z",
        "outputId": "dcf9b52b-3b71-4ca6-8a95-9ca23217a340"
      },
      "source": [
        "revenue_resample('2021-04-08','2021-04-21','1H',1008)"
      ],
      "execution_count": 105,
      "outputs": [
        {
          "output_type": "execute_result",
          "data": {
            "text/html": [
              "<div>\n",
              "<style scoped>\n",
              "    .dataframe tbody tr th:only-of-type {\n",
              "        vertical-align: middle;\n",
              "    }\n",
              "\n",
              "    .dataframe tbody tr th {\n",
              "        vertical-align: top;\n",
              "    }\n",
              "\n",
              "    .dataframe thead th {\n",
              "        text-align: right;\n",
              "    }\n",
              "</style>\n",
              "<table border=\"1\" class=\"dataframe\">\n",
              "  <thead>\n",
              "    <tr style=\"text-align: right;\">\n",
              "      <th></th>\n",
              "      <th>date</th>\n",
              "      <th>revenue_billing_system</th>\n",
              "      <th>revenue_traffic_source</th>\n",
              "      <th>revenue_pixel</th>\n",
              "      <th>spent_traffic_source</th>\n",
              "      <th>revenue_1008</th>\n",
              "    </tr>\n",
              "  </thead>\n",
              "  <tbody>\n",
              "    <tr>\n",
              "      <th>0</th>\n",
              "      <td>2021-04-08 00:00:00+00:00</td>\n",
              "      <td>56.00</td>\n",
              "      <td>NaN</td>\n",
              "      <td>56.00</td>\n",
              "      <td>NaN</td>\n",
              "      <td>NaN</td>\n",
              "    </tr>\n",
              "    <tr>\n",
              "      <th>1</th>\n",
              "      <td>2021-04-08 01:00:00+00:00</td>\n",
              "      <td>294.00</td>\n",
              "      <td>NaN</td>\n",
              "      <td>294.00</td>\n",
              "      <td>NaN</td>\n",
              "      <td>NaN</td>\n",
              "    </tr>\n",
              "    <tr>\n",
              "      <th>2</th>\n",
              "      <td>2021-04-08 02:00:00+00:00</td>\n",
              "      <td>134.00</td>\n",
              "      <td>NaN</td>\n",
              "      <td>256.28</td>\n",
              "      <td>NaN</td>\n",
              "      <td>NaN</td>\n",
              "    </tr>\n",
              "    <tr>\n",
              "      <th>3</th>\n",
              "      <td>2021-04-08 03:00:00+00:00</td>\n",
              "      <td>428.00</td>\n",
              "      <td>NaN</td>\n",
              "      <td>565.35</td>\n",
              "      <td>NaN</td>\n",
              "      <td>NaN</td>\n",
              "    </tr>\n",
              "    <tr>\n",
              "      <th>4</th>\n",
              "      <td>2021-04-08 04:00:00+00:00</td>\n",
              "      <td>394.40</td>\n",
              "      <td>NaN</td>\n",
              "      <td>406.03</td>\n",
              "      <td>NaN</td>\n",
              "      <td>NaN</td>\n",
              "    </tr>\n",
              "    <tr>\n",
              "      <th>...</th>\n",
              "      <td>...</td>\n",
              "      <td>...</td>\n",
              "      <td>...</td>\n",
              "      <td>...</td>\n",
              "      <td>...</td>\n",
              "      <td>...</td>\n",
              "    </tr>\n",
              "    <tr>\n",
              "      <th>91</th>\n",
              "      <td>2021-04-11 19:00:00+00:00</td>\n",
              "      <td>415.02</td>\n",
              "      <td>24464.66</td>\n",
              "      <td>1760.93</td>\n",
              "      <td>35150.78</td>\n",
              "      <td>24464.66</td>\n",
              "    </tr>\n",
              "    <tr>\n",
              "      <th>92</th>\n",
              "      <td>2021-04-11 20:00:00+00:00</td>\n",
              "      <td>539.99</td>\n",
              "      <td>36696.99</td>\n",
              "      <td>699.95</td>\n",
              "      <td>52828.05</td>\n",
              "      <td>36696.99</td>\n",
              "    </tr>\n",
              "    <tr>\n",
              "      <th>93</th>\n",
              "      <td>2021-04-11 21:00:00+00:00</td>\n",
              "      <td>451.98</td>\n",
              "      <td>36696.99</td>\n",
              "      <td>891.95</td>\n",
              "      <td>52898.63</td>\n",
              "      <td>36696.99</td>\n",
              "    </tr>\n",
              "    <tr>\n",
              "      <th>94</th>\n",
              "      <td>2021-04-11 22:00:00+00:00</td>\n",
              "      <td>255.96</td>\n",
              "      <td>24464.66</td>\n",
              "      <td>255.96</td>\n",
              "      <td>35284.34</td>\n",
              "      <td>24464.66</td>\n",
              "    </tr>\n",
              "    <tr>\n",
              "      <th>95</th>\n",
              "      <td>2021-04-11 23:00:00+00:00</td>\n",
              "      <td>508.99</td>\n",
              "      <td>36696.99</td>\n",
              "      <td>508.99</td>\n",
              "      <td>52952.27</td>\n",
              "      <td>36696.99</td>\n",
              "    </tr>\n",
              "  </tbody>\n",
              "</table>\n",
              "<p>96 rows × 6 columns</p>\n",
              "</div>"
            ],
            "text/plain": [
              "                        date  ...  revenue_1008\n",
              "0  2021-04-08 00:00:00+00:00  ...           NaN\n",
              "1  2021-04-08 01:00:00+00:00  ...           NaN\n",
              "2  2021-04-08 02:00:00+00:00  ...           NaN\n",
              "3  2021-04-08 03:00:00+00:00  ...           NaN\n",
              "4  2021-04-08 04:00:00+00:00  ...           NaN\n",
              "..                       ...  ...           ...\n",
              "91 2021-04-11 19:00:00+00:00  ...      24464.66\n",
              "92 2021-04-11 20:00:00+00:00  ...      36696.99\n",
              "93 2021-04-11 21:00:00+00:00  ...      36696.99\n",
              "94 2021-04-11 22:00:00+00:00  ...      24464.66\n",
              "95 2021-04-11 23:00:00+00:00  ...      36696.99\n",
              "\n",
              "[96 rows x 6 columns]"
            ]
          },
          "metadata": {
            "tags": []
          },
          "execution_count": 105
        }
      ]
    },
    {
      "cell_type": "code",
      "metadata": {
        "colab": {
          "base_uri": "https://localhost:8080/",
          "height": 1000
        },
        "id": "ZAgtFhvkYhwN",
        "outputId": "76b3d750-66f0-4db8-babb-b87839c5d50b"
      },
      "source": [
        "revenue_resample('2021-04-08','2021-04-20','2H',1008)"
      ],
      "execution_count": 106,
      "outputs": [
        {
          "output_type": "execute_result",
          "data": {
            "text/html": [
              "<div>\n",
              "<style scoped>\n",
              "    .dataframe tbody tr th:only-of-type {\n",
              "        vertical-align: middle;\n",
              "    }\n",
              "\n",
              "    .dataframe tbody tr th {\n",
              "        vertical-align: top;\n",
              "    }\n",
              "\n",
              "    .dataframe thead th {\n",
              "        text-align: right;\n",
              "    }\n",
              "</style>\n",
              "<table border=\"1\" class=\"dataframe\">\n",
              "  <thead>\n",
              "    <tr style=\"text-align: right;\">\n",
              "      <th></th>\n",
              "      <th>date</th>\n",
              "      <th>revenue_billing_system</th>\n",
              "      <th>revenue_traffic_source</th>\n",
              "      <th>revenue_pixel</th>\n",
              "      <th>spent_traffic_source</th>\n",
              "      <th>revenue_1008</th>\n",
              "    </tr>\n",
              "  </thead>\n",
              "  <tbody>\n",
              "    <tr>\n",
              "      <th>0</th>\n",
              "      <td>2021-04-08 00:00:00+00:00</td>\n",
              "      <td>350.00</td>\n",
              "      <td>NaN</td>\n",
              "      <td>350.00</td>\n",
              "      <td>NaN</td>\n",
              "      <td>NaN</td>\n",
              "    </tr>\n",
              "    <tr>\n",
              "      <th>1</th>\n",
              "      <td>2021-04-08 02:00:00+00:00</td>\n",
              "      <td>562.00</td>\n",
              "      <td>NaN</td>\n",
              "      <td>821.63</td>\n",
              "      <td>NaN</td>\n",
              "      <td>NaN</td>\n",
              "    </tr>\n",
              "    <tr>\n",
              "      <th>2</th>\n",
              "      <td>2021-04-08 04:00:00+00:00</td>\n",
              "      <td>623.40</td>\n",
              "      <td>NaN</td>\n",
              "      <td>674.03</td>\n",
              "      <td>NaN</td>\n",
              "      <td>NaN</td>\n",
              "    </tr>\n",
              "    <tr>\n",
              "      <th>3</th>\n",
              "      <td>2021-04-08 06:00:00+00:00</td>\n",
              "      <td>287.99</td>\n",
              "      <td>0.00</td>\n",
              "      <td>287.99</td>\n",
              "      <td>57.65</td>\n",
              "      <td>0.00</td>\n",
              "    </tr>\n",
              "    <tr>\n",
              "      <th>4</th>\n",
              "      <td>2021-04-08 08:00:00+00:00</td>\n",
              "      <td>134.00</td>\n",
              "      <td>0.00</td>\n",
              "      <td>573.97</td>\n",
              "      <td>1077.29</td>\n",
              "      <td>0.00</td>\n",
              "    </tr>\n",
              "    <tr>\n",
              "      <th>5</th>\n",
              "      <td>2021-04-08 10:00:00+00:00</td>\n",
              "      <td>923.99</td>\n",
              "      <td>765.00</td>\n",
              "      <td>1523.88</td>\n",
              "      <td>4219.34</td>\n",
              "      <td>765.00</td>\n",
              "    </tr>\n",
              "    <tr>\n",
              "      <th>6</th>\n",
              "      <td>2021-04-08 12:00:00+00:00</td>\n",
              "      <td>1567.99</td>\n",
              "      <td>2746.99</td>\n",
              "      <td>3166.34</td>\n",
              "      <td>11789.45</td>\n",
              "      <td>2746.99</td>\n",
              "    </tr>\n",
              "    <tr>\n",
              "      <th>7</th>\n",
              "      <td>2021-04-08 14:00:00+00:00</td>\n",
              "      <td>2640.59</td>\n",
              "      <td>8031.13</td>\n",
              "      <td>4246.33</td>\n",
              "      <td>19517.55</td>\n",
              "      <td>8031.13</td>\n",
              "    </tr>\n",
              "    <tr>\n",
              "      <th>8</th>\n",
              "      <td>2021-04-08 16:00:00+00:00</td>\n",
              "      <td>1874.43</td>\n",
              "      <td>12643.90</td>\n",
              "      <td>3279.89</td>\n",
              "      <td>23215.97</td>\n",
              "      <td>12643.90</td>\n",
              "    </tr>\n",
              "    <tr>\n",
              "      <th>9</th>\n",
              "      <td>2021-04-08 18:00:00+00:00</td>\n",
              "      <td>460.97</td>\n",
              "      <td>16104.48</td>\n",
              "      <td>1379.86</td>\n",
              "      <td>29105.93</td>\n",
              "      <td>16104.48</td>\n",
              "    </tr>\n",
              "    <tr>\n",
              "      <th>10</th>\n",
              "      <td>2021-04-08 20:00:00+00:00</td>\n",
              "      <td>975.99</td>\n",
              "      <td>11346.32</td>\n",
              "      <td>1298.26</td>\n",
              "      <td>19726.39</td>\n",
              "      <td>11346.32</td>\n",
              "    </tr>\n",
              "    <tr>\n",
              "      <th>11</th>\n",
              "      <td>2021-04-08 22:00:00+00:00</td>\n",
              "      <td>1007.01</td>\n",
              "      <td>14382.90</td>\n",
              "      <td>1046.99</td>\n",
              "      <td>24850.42</td>\n",
              "      <td>14382.90</td>\n",
              "    </tr>\n",
              "    <tr>\n",
              "      <th>12</th>\n",
              "      <td>2021-04-09 00:00:00+00:00</td>\n",
              "      <td>925.01</td>\n",
              "      <td>14382.90</td>\n",
              "      <td>944.94</td>\n",
              "      <td>25006.00</td>\n",
              "      <td>14382.90</td>\n",
              "    </tr>\n",
              "    <tr>\n",
              "      <th>13</th>\n",
              "      <td>2021-04-09 02:00:00+00:00</td>\n",
              "      <td>908.98</td>\n",
              "      <td>17259.48</td>\n",
              "      <td>1068.98</td>\n",
              "      <td>30189.32</td>\n",
              "      <td>17259.48</td>\n",
              "    </tr>\n",
              "    <tr>\n",
              "      <th>14</th>\n",
              "      <td>2021-04-09 04:00:00+00:00</td>\n",
              "      <td>351.00</td>\n",
              "      <td>14577.90</td>\n",
              "      <td>351.00</td>\n",
              "      <td>26164.92</td>\n",
              "      <td>14577.90</td>\n",
              "    </tr>\n",
              "    <tr>\n",
              "      <th>15</th>\n",
              "      <td>2021-04-09 06:00:00+00:00</td>\n",
              "      <td>1149.00</td>\n",
              "      <td>17420.87</td>\n",
              "      <td>1308.99</td>\n",
              "      <td>27785.37</td>\n",
              "      <td>17420.87</td>\n",
              "    </tr>\n",
              "    <tr>\n",
              "      <th>16</th>\n",
              "      <td>2021-04-09 08:00:00+00:00</td>\n",
              "      <td>294.00</td>\n",
              "      <td>19186.85</td>\n",
              "      <td>454.00</td>\n",
              "      <td>29213.75</td>\n",
              "      <td>19186.85</td>\n",
              "    </tr>\n",
              "    <tr>\n",
              "      <th>17</th>\n",
              "      <td>2021-04-09 10:00:00+00:00</td>\n",
              "      <td>947.00</td>\n",
              "      <td>19773.85</td>\n",
              "      <td>1466.91</td>\n",
              "      <td>31552.61</td>\n",
              "      <td>19773.85</td>\n",
              "    </tr>\n",
              "    <tr>\n",
              "      <th>18</th>\n",
              "      <td>2021-04-09 12:00:00+00:00</td>\n",
              "      <td>1067.96</td>\n",
              "      <td>26406.42</td>\n",
              "      <td>2479.09</td>\n",
              "      <td>43573.01</td>\n",
              "      <td>26406.42</td>\n",
              "    </tr>\n",
              "    <tr>\n",
              "      <th>19</th>\n",
              "      <td>2021-04-09 14:00:00+00:00</td>\n",
              "      <td>3245.01</td>\n",
              "      <td>27914.85</td>\n",
              "      <td>4514.17</td>\n",
              "      <td>41765.13</td>\n",
              "      <td>27914.85</td>\n",
              "    </tr>\n",
              "    <tr>\n",
              "      <th>20</th>\n",
              "      <td>2021-04-09 16:00:00+00:00</td>\n",
              "      <td>1742.91</td>\n",
              "      <td>31394.85</td>\n",
              "      <td>3713.42</td>\n",
              "      <td>44068.26</td>\n",
              "      <td>31394.85</td>\n",
              "    </tr>\n",
              "    <tr>\n",
              "      <th>21</th>\n",
              "      <td>2021-04-09 18:00:00+00:00</td>\n",
              "      <td>753.99</td>\n",
              "      <td>33175.85</td>\n",
              "      <td>2287.07</td>\n",
              "      <td>44732.27</td>\n",
              "      <td>33175.85</td>\n",
              "    </tr>\n",
              "    <tr>\n",
              "      <th>22</th>\n",
              "      <td>2021-04-09 20:00:00+00:00</td>\n",
              "      <td>1003.95</td>\n",
              "      <td>33352.85</td>\n",
              "      <td>2338.77</td>\n",
              "      <td>44869.72</td>\n",
              "      <td>33352.85</td>\n",
              "    </tr>\n",
              "    <tr>\n",
              "      <th>23</th>\n",
              "      <td>2021-04-09 22:00:00+00:00</td>\n",
              "      <td>350.00</td>\n",
              "      <td>40377.42</td>\n",
              "      <td>409.82</td>\n",
              "      <td>53940.66</td>\n",
              "      <td>40377.42</td>\n",
              "    </tr>\n",
              "    <tr>\n",
              "      <th>24</th>\n",
              "      <td>2021-04-10 00:00:00+00:00</td>\n",
              "      <td>709.00</td>\n",
              "      <td>6847.57</td>\n",
              "      <td>718.97</td>\n",
              "      <td>9001.10</td>\n",
              "      <td>6847.57</td>\n",
              "    </tr>\n",
              "    <tr>\n",
              "      <th>25</th>\n",
              "      <td>2021-04-10 02:00:00+00:00</td>\n",
              "      <td>515.00</td>\n",
              "      <td>0.00</td>\n",
              "      <td>920.58</td>\n",
              "      <td>0.00</td>\n",
              "      <td>0.00</td>\n",
              "    </tr>\n",
              "    <tr>\n",
              "      <th>26</th>\n",
              "      <td>2021-04-10 04:00:00+00:00</td>\n",
              "      <td>484.02</td>\n",
              "      <td>0.00</td>\n",
              "      <td>493.97</td>\n",
              "      <td>0.00</td>\n",
              "      <td>0.00</td>\n",
              "    </tr>\n",
              "    <tr>\n",
              "      <th>27</th>\n",
              "      <td>2021-04-10 06:00:00+00:00</td>\n",
              "      <td>648.00</td>\n",
              "      <td>0.00</td>\n",
              "      <td>648.00</td>\n",
              "      <td>0.00</td>\n",
              "      <td>0.00</td>\n",
              "    </tr>\n",
              "    <tr>\n",
              "      <th>28</th>\n",
              "      <td>2021-04-10 08:00:00+00:00</td>\n",
              "      <td>160.00</td>\n",
              "      <td>0.00</td>\n",
              "      <td>199.99</td>\n",
              "      <td>0.00</td>\n",
              "      <td>0.00</td>\n",
              "    </tr>\n",
              "    <tr>\n",
              "      <th>29</th>\n",
              "      <td>2021-04-10 10:00:00+00:00</td>\n",
              "      <td>1651.41</td>\n",
              "      <td>0.00</td>\n",
              "      <td>2596.24</td>\n",
              "      <td>0.00</td>\n",
              "      <td>0.00</td>\n",
              "    </tr>\n",
              "    <tr>\n",
              "      <th>30</th>\n",
              "      <td>2021-04-10 12:00:00+00:00</td>\n",
              "      <td>2268.99</td>\n",
              "      <td>50410.34</td>\n",
              "      <td>4567.72</td>\n",
              "      <td>68284.14</td>\n",
              "      <td>50410.34</td>\n",
              "    </tr>\n",
              "    <tr>\n",
              "      <th>31</th>\n",
              "      <td>2021-04-10 14:00:00+00:00</td>\n",
              "      <td>1878.98</td>\n",
              "      <td>48273.72</td>\n",
              "      <td>6384.51</td>\n",
              "      <td>67543.67</td>\n",
              "      <td>48273.72</td>\n",
              "    </tr>\n",
              "    <tr>\n",
              "      <th>32</th>\n",
              "      <td>2021-04-10 16:00:00+00:00</td>\n",
              "      <td>1997.40</td>\n",
              "      <td>62838.81</td>\n",
              "      <td>5747.88</td>\n",
              "      <td>88518.72</td>\n",
              "      <td>62838.81</td>\n",
              "    </tr>\n",
              "    <tr>\n",
              "      <th>33</th>\n",
              "      <td>2021-04-10 18:00:00+00:00</td>\n",
              "      <td>947.00</td>\n",
              "      <td>53534.65</td>\n",
              "      <td>4999.62</td>\n",
              "      <td>75193.22</td>\n",
              "      <td>53534.65</td>\n",
              "    </tr>\n",
              "    <tr>\n",
              "      <th>34</th>\n",
              "      <td>2021-04-10 20:00:00+00:00</td>\n",
              "      <td>786.40</td>\n",
              "      <td>53729.65</td>\n",
              "      <td>1700.55</td>\n",
              "      <td>75513.33</td>\n",
              "      <td>53729.65</td>\n",
              "    </tr>\n",
              "    <tr>\n",
              "      <th>35</th>\n",
              "      <td>2021-04-10 22:00:00+00:00</td>\n",
              "      <td>979.00</td>\n",
              "      <td>53729.65</td>\n",
              "      <td>929.99</td>\n",
              "      <td>75663.65</td>\n",
              "      <td>53729.65</td>\n",
              "    </tr>\n",
              "    <tr>\n",
              "      <th>36</th>\n",
              "      <td>2021-04-11 00:00:00+00:00</td>\n",
              "      <td>704.01</td>\n",
              "      <td>34896.80</td>\n",
              "      <td>743.99</td>\n",
              "      <td>47874.59</td>\n",
              "      <td>34896.80</td>\n",
              "    </tr>\n",
              "    <tr>\n",
              "      <th>37</th>\n",
              "      <td>2021-04-11 02:00:00+00:00</td>\n",
              "      <td>578.99</td>\n",
              "      <td>41876.16</td>\n",
              "      <td>578.99</td>\n",
              "      <td>57574.25</td>\n",
              "      <td>41876.16</td>\n",
              "    </tr>\n",
              "    <tr>\n",
              "      <th>38</th>\n",
              "      <td>2021-04-11 04:00:00+00:00</td>\n",
              "      <td>683.00</td>\n",
              "      <td>35069.80</td>\n",
              "      <td>843.99</td>\n",
              "      <td>48965.84</td>\n",
              "      <td>35069.80</td>\n",
              "    </tr>\n",
              "    <tr>\n",
              "      <th>39</th>\n",
              "      <td>2021-04-11 06:00:00+00:00</td>\n",
              "      <td>786.99</td>\n",
              "      <td>36724.80</td>\n",
              "      <td>826.98</td>\n",
              "      <td>52103.00</td>\n",
              "      <td>36724.80</td>\n",
              "    </tr>\n",
              "    <tr>\n",
              "      <th>40</th>\n",
              "      <td>2021-04-11 08:00:00+00:00</td>\n",
              "      <td>454.97</td>\n",
              "      <td>37800.80</td>\n",
              "      <td>654.92</td>\n",
              "      <td>54000.14</td>\n",
              "      <td>37800.80</td>\n",
              "    </tr>\n",
              "    <tr>\n",
              "      <th>41</th>\n",
              "      <td>2021-04-11 10:00:00+00:00</td>\n",
              "      <td>838.99</td>\n",
              "      <td>46604.14</td>\n",
              "      <td>1478.91</td>\n",
              "      <td>68637.28</td>\n",
              "      <td>46604.14</td>\n",
              "    </tr>\n",
              "    <tr>\n",
              "      <th>42</th>\n",
              "      <td>2021-04-11 12:00:00+00:00</td>\n",
              "      <td>1650.00</td>\n",
              "      <td>42948.75</td>\n",
              "      <td>4813.02</td>\n",
              "      <td>67047.97</td>\n",
              "      <td>42948.75</td>\n",
              "    </tr>\n",
              "    <tr>\n",
              "      <th>43</th>\n",
              "      <td>2021-04-11 14:00:00+00:00</td>\n",
              "      <td>4930.92</td>\n",
              "      <td>50817.66</td>\n",
              "      <td>9349.93</td>\n",
              "      <td>79554.53</td>\n",
              "      <td>50817.66</td>\n",
              "    </tr>\n",
              "    <tr>\n",
              "      <th>44</th>\n",
              "      <td>2021-04-11 16:00:00+00:00</td>\n",
              "      <td>2138.95</td>\n",
              "      <td>59396.65</td>\n",
              "      <td>7865.67</td>\n",
              "      <td>85969.02</td>\n",
              "      <td>59396.65</td>\n",
              "    </tr>\n",
              "    <tr>\n",
              "      <th>45</th>\n",
              "      <td>2021-04-11 18:00:00+00:00</td>\n",
              "      <td>904.02</td>\n",
              "      <td>61161.65</td>\n",
              "      <td>4092.10</td>\n",
              "      <td>87691.89</td>\n",
              "      <td>61161.65</td>\n",
              "    </tr>\n",
              "    <tr>\n",
              "      <th>46</th>\n",
              "      <td>2021-04-11 20:00:00+00:00</td>\n",
              "      <td>991.97</td>\n",
              "      <td>73393.98</td>\n",
              "      <td>1591.90</td>\n",
              "      <td>105726.68</td>\n",
              "      <td>73393.98</td>\n",
              "    </tr>\n",
              "    <tr>\n",
              "      <th>47</th>\n",
              "      <td>2021-04-11 22:00:00+00:00</td>\n",
              "      <td>764.95</td>\n",
              "      <td>61161.65</td>\n",
              "      <td>764.95</td>\n",
              "      <td>88236.61</td>\n",
              "      <td>61161.65</td>\n",
              "    </tr>\n",
              "  </tbody>\n",
              "</table>\n",
              "</div>"
            ],
            "text/plain": [
              "                        date  ...  revenue_1008\n",
              "0  2021-04-08 00:00:00+00:00  ...           NaN\n",
              "1  2021-04-08 02:00:00+00:00  ...           NaN\n",
              "2  2021-04-08 04:00:00+00:00  ...           NaN\n",
              "3  2021-04-08 06:00:00+00:00  ...          0.00\n",
              "4  2021-04-08 08:00:00+00:00  ...          0.00\n",
              "5  2021-04-08 10:00:00+00:00  ...        765.00\n",
              "6  2021-04-08 12:00:00+00:00  ...       2746.99\n",
              "7  2021-04-08 14:00:00+00:00  ...       8031.13\n",
              "8  2021-04-08 16:00:00+00:00  ...      12643.90\n",
              "9  2021-04-08 18:00:00+00:00  ...      16104.48\n",
              "10 2021-04-08 20:00:00+00:00  ...      11346.32\n",
              "11 2021-04-08 22:00:00+00:00  ...      14382.90\n",
              "12 2021-04-09 00:00:00+00:00  ...      14382.90\n",
              "13 2021-04-09 02:00:00+00:00  ...      17259.48\n",
              "14 2021-04-09 04:00:00+00:00  ...      14577.90\n",
              "15 2021-04-09 06:00:00+00:00  ...      17420.87\n",
              "16 2021-04-09 08:00:00+00:00  ...      19186.85\n",
              "17 2021-04-09 10:00:00+00:00  ...      19773.85\n",
              "18 2021-04-09 12:00:00+00:00  ...      26406.42\n",
              "19 2021-04-09 14:00:00+00:00  ...      27914.85\n",
              "20 2021-04-09 16:00:00+00:00  ...      31394.85\n",
              "21 2021-04-09 18:00:00+00:00  ...      33175.85\n",
              "22 2021-04-09 20:00:00+00:00  ...      33352.85\n",
              "23 2021-04-09 22:00:00+00:00  ...      40377.42\n",
              "24 2021-04-10 00:00:00+00:00  ...       6847.57\n",
              "25 2021-04-10 02:00:00+00:00  ...          0.00\n",
              "26 2021-04-10 04:00:00+00:00  ...          0.00\n",
              "27 2021-04-10 06:00:00+00:00  ...          0.00\n",
              "28 2021-04-10 08:00:00+00:00  ...          0.00\n",
              "29 2021-04-10 10:00:00+00:00  ...          0.00\n",
              "30 2021-04-10 12:00:00+00:00  ...      50410.34\n",
              "31 2021-04-10 14:00:00+00:00  ...      48273.72\n",
              "32 2021-04-10 16:00:00+00:00  ...      62838.81\n",
              "33 2021-04-10 18:00:00+00:00  ...      53534.65\n",
              "34 2021-04-10 20:00:00+00:00  ...      53729.65\n",
              "35 2021-04-10 22:00:00+00:00  ...      53729.65\n",
              "36 2021-04-11 00:00:00+00:00  ...      34896.80\n",
              "37 2021-04-11 02:00:00+00:00  ...      41876.16\n",
              "38 2021-04-11 04:00:00+00:00  ...      35069.80\n",
              "39 2021-04-11 06:00:00+00:00  ...      36724.80\n",
              "40 2021-04-11 08:00:00+00:00  ...      37800.80\n",
              "41 2021-04-11 10:00:00+00:00  ...      46604.14\n",
              "42 2021-04-11 12:00:00+00:00  ...      42948.75\n",
              "43 2021-04-11 14:00:00+00:00  ...      50817.66\n",
              "44 2021-04-11 16:00:00+00:00  ...      59396.65\n",
              "45 2021-04-11 18:00:00+00:00  ...      61161.65\n",
              "46 2021-04-11 20:00:00+00:00  ...      73393.98\n",
              "47 2021-04-11 22:00:00+00:00  ...      61161.65\n",
              "\n",
              "[48 rows x 6 columns]"
            ]
          },
          "metadata": {
            "tags": []
          },
          "execution_count": 106
        }
      ]
    },
    {
      "cell_type": "code",
      "metadata": {
        "colab": {
          "base_uri": "https://localhost:8080/",
          "height": 173
        },
        "id": "wGbyykQ_gWHk",
        "outputId": "27c123fc-4b75-469b-fe51-ea0c610bb977"
      },
      "source": [
        "revenue_resample('2021-04-08','2021-04-20','1D',1009)"
      ],
      "execution_count": 107,
      "outputs": [
        {
          "output_type": "execute_result",
          "data": {
            "text/html": [
              "<div>\n",
              "<style scoped>\n",
              "    .dataframe tbody tr th:only-of-type {\n",
              "        vertical-align: middle;\n",
              "    }\n",
              "\n",
              "    .dataframe tbody tr th {\n",
              "        vertical-align: top;\n",
              "    }\n",
              "\n",
              "    .dataframe thead th {\n",
              "        text-align: right;\n",
              "    }\n",
              "</style>\n",
              "<table border=\"1\" class=\"dataframe\">\n",
              "  <thead>\n",
              "    <tr style=\"text-align: right;\">\n",
              "      <th></th>\n",
              "      <th>date</th>\n",
              "      <th>revenue_billing_system</th>\n",
              "      <th>revenue_traffic_source</th>\n",
              "      <th>revenue_pixel</th>\n",
              "      <th>spent_traffic_source</th>\n",
              "      <th>revenue_1009</th>\n",
              "    </tr>\n",
              "  </thead>\n",
              "  <tbody>\n",
              "    <tr>\n",
              "      <th>0</th>\n",
              "      <td>2021-04-08 00:00:00+00:00</td>\n",
              "      <td>11408.36</td>\n",
              "      <td>66020.72</td>\n",
              "      <td>18649.17</td>\n",
              "      <td>133559.99</td>\n",
              "      <td>NaN</td>\n",
              "    </tr>\n",
              "    <tr>\n",
              "      <th>1</th>\n",
              "      <td>2021-04-09 00:00:00+00:00</td>\n",
              "      <td>12738.81</td>\n",
              "      <td>295224.09</td>\n",
              "      <td>21337.16</td>\n",
              "      <td>442861.02</td>\n",
              "      <td>NaN</td>\n",
              "    </tr>\n",
              "    <tr>\n",
              "      <th>2</th>\n",
              "      <td>2021-04-10 00:00:00+00:00</td>\n",
              "      <td>13025.20</td>\n",
              "      <td>329364.39</td>\n",
              "      <td>29908.02</td>\n",
              "      <td>459717.83</td>\n",
              "      <td>NaN</td>\n",
              "    </tr>\n",
              "    <tr>\n",
              "      <th>3</th>\n",
              "      <td>2021-04-11 00:00:00+00:00</td>\n",
              "      <td>15427.76</td>\n",
              "      <td>581852.84</td>\n",
              "      <td>33605.35</td>\n",
              "      <td>843381.80</td>\n",
              "      <td>NaN</td>\n",
              "    </tr>\n",
              "  </tbody>\n",
              "</table>\n",
              "</div>"
            ],
            "text/plain": [
              "                       date  ...  revenue_1009\n",
              "0 2021-04-08 00:00:00+00:00  ...           NaN\n",
              "1 2021-04-09 00:00:00+00:00  ...           NaN\n",
              "2 2021-04-10 00:00:00+00:00  ...           NaN\n",
              "3 2021-04-11 00:00:00+00:00  ...           NaN\n",
              "\n",
              "[4 rows x 6 columns]"
            ]
          },
          "metadata": {
            "tags": []
          },
          "execution_count": 107
        }
      ]
    },
    {
      "cell_type": "markdown",
      "metadata": {
        "id": "gG543sUBgdzs"
      },
      "source": [
        "Спасибо за интересное задание, надеюсь на дальнешее сотрдничество.\n",
        "Виктория"
      ]
    }
  ]
}